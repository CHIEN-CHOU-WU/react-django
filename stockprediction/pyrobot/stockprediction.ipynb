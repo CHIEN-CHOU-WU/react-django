{
 "metadata": {
  "language_info": {
   "codemirror_mode": {
    "name": "ipython",
    "version": 3
   },
   "file_extension": ".py",
   "mimetype": "text/x-python",
   "name": "python",
   "nbconvert_exporter": "python",
   "pygments_lexer": "ipython3",
   "version": "3.8.3-final"
  },
  "orig_nbformat": 2,
  "kernelspec": {
   "name": "python3",
   "display_name": "Python 3"
  }
 },
 "nbformat": 4,
 "nbformat_minor": 2,
 "cells": [
  {
   "cell_type": "code",
   "execution_count": 12,
   "metadata": {},
   "outputs": [],
   "source": [
    "import requests\n",
    "import urllib\n",
    "import time"
   ]
  },
  {
   "cell_type": "code",
   "execution_count": 2,
   "metadata": {},
   "outputs": [],
   "source": [
    "\n",
    "# The daily prices endpoints\n",
    "endpoint = r\"https://api.tdameritrade.com/v1/marketdata/{}/pricehistory\".format('GOOG')\n",
    "\n",
    "#defined our payload\n",
    "payload = {'apikey': 'NPJBMUYTIITL7A46GN6GNB2FXVEPMMQL',\n",
    "            'periodType': 'day',\n",
    "            'frequencyType': 'minute',\n",
    "            'frequency': '1',\n",
    "            'period': '2',\n",
    "            'endDate': '1605144009000',\n",
    "            'startDate': '1605143949000',\n",
    "            'needExtendedHoursData': 'true'\n",
    "\n",
    "}\n",
    "\n",
    "# make a request\n",
    "content = requests.get(url=endpoint, params=payload)\n",
    "# print(content.url)\n",
    "\n",
    "# convert it to dictionary\n",
    "data = content.json()\n",
    "# print(data)"
   ]
  },
  {
   "cell_type": "code",
   "execution_count": 5,
   "metadata": {},
   "outputs": [
    {
     "output_type": "stream",
     "name": "stdout",
     "text": [
      "{'GOOG': {'assetType': 'EQUITY', 'assetMainType': 'EQUITY', 'cusip': '02079K107', 'symbol': 'GOOG', 'description': 'Alphabet Inc. - Class C Capital Stock', 'bidPrice': 1777.24, 'bidSize': 100, 'bidId': 'P', 'askPrice': 1783.0, 'askSize': 100, 'askId': 'Q', 'lastPrice': 1778.0, 'lastSize': 0, 'lastId': 'P', 'openPrice': 1757.63, 'highPrice': 1781.04, 'lowPrice': 1744.55, 'bidTick': ' ', 'closePrice': 1749.84, 'netChange': 28.16, 'totalVolume': 1500574, 'quoteTimeInLong': 1605315590038, 'tradeTimeInLong': 1605315515258, 'mark': 1777.02, 'exchange': 'q', 'exchangeName': 'NASD', 'marginable': True, 'shortable': True, 'volatility': 0.0353, 'digits': 4, '52WkHigh': 1818.0601, '52WkLow': 1013.536, 'nAV': 0.0, 'peRatio': 33.6, 'divAmount': 0.0, 'divYield': 0.0, 'divDate': '', 'securityStatus': 'Normal', 'regularMarketLastPrice': 1777.02, 'regularMarketLastSize': 1325, 'regularMarketNetChange': 27.18, 'regularMarketTradeTimeInLong': 1605301200490, 'netPercentChangeInDouble': 1.6093, 'markChangeInDouble': 27.18, 'markPercentChangeInDouble': 1.5533, 'regularMarketPercentChangeInDouble': 1.5533, 'delayed': True}}\n"
     ]
    }
   ],
   "source": [
    "# The daily prices endpoints\n",
    "endpoint = r\"https://api.tdameritrade.com/v1/marketdata/{}/quotes\".format('GOOG')\n",
    "\n",
    "#defined our payload\n",
    "payload = {'apikey': 'NPJBMUYTIITL7A46GN6GNB2FXVEPMMQL'}\n",
    "\n",
    "# make a request\n",
    "content = requests.get(url=endpoint, params=payload)\n",
    "#print(content.url)\n",
    "\n",
    "# convert it to dictionary\n",
    "data = content.json()\n",
    "print(data)"
   ]
  },
  {
   "cell_type": "code",
   "execution_count": 11,
   "metadata": {},
   "outputs": [
    {
     "output_type": "stream",
     "name": "stdout",
     "text": [
      "{'GOOG': {'assetType': 'EQUITY', 'assetMainType': 'EQUITY', 'cusip': '02079K107', 'symbol': 'GOOG', 'description': 'Alphabet Inc. - Class C Capital Stock', 'bidPrice': 1777.24, 'bidSize': 100, 'bidId': 'P', 'askPrice': 1783.0, 'askSize': 100, 'askId': 'Q', 'lastPrice': 1778.0, 'lastSize': 0, 'lastId': 'P', 'openPrice': 1757.63, 'highPrice': 1781.04, 'lowPrice': 1744.55, 'bidTick': ' ', 'closePrice': 1749.84, 'netChange': 28.16, 'totalVolume': 1500574, 'quoteTimeInLong': 1605315590038, 'tradeTimeInLong': 1605315515258, 'mark': 1777.02, 'exchange': 'q', 'exchangeName': 'NASD', 'marginable': True, 'shortable': True, 'volatility': 0.0353, 'digits': 4, '52WkHigh': 1818.0601, '52WkLow': 1013.536, 'nAV': 0.0, 'peRatio': 33.6, 'divAmount': 0.0, 'divYield': 0.0, 'divDate': '', 'securityStatus': 'Normal', 'regularMarketLastPrice': 1777.02, 'regularMarketLastSize': 1325, 'regularMarketNetChange': 27.18, 'regularMarketTradeTimeInLong': 1605301200490, 'netPercentChangeInDouble': 1.6093, 'markChangeInDouble': 27.18, 'markPercentChangeInDouble': 1.5533, 'regularMarketPercentChangeInDouble': 1.5533, 'delayed': True}, 'TSLA': {'assetType': 'EQUITY', 'assetMainType': 'EQUITY', 'cusip': '88160R101', 'symbol': 'TSLA', 'description': 'Tesla, Inc.  - Common Stock', 'bidPrice': 408.11, 'bidSize': 300, 'bidId': 'P', 'askPrice': 408.12, 'askSize': 200, 'askId': 'P', 'lastPrice': 408.12, 'lastSize': 0, 'lastId': 'P', 'openPrice': 410.85, 'highPrice': 412.5319, 'lowPrice': 401.66, 'bidTick': ' ', 'closePrice': 411.76, 'netChange': -3.64, 'totalVolume': 19830351, 'quoteTimeInLong': 1605315598610, 'tradeTimeInLong': 1605315599669, 'mark': 408.5, 'exchange': 'q', 'exchangeName': 'NASD', 'marginable': True, 'shortable': True, 'volatility': 0.0267, 'digits': 4, '52WkHigh': 502.49, '52WkLow': 65.42, 'nAV': 0.0, 'peRatio': 724.18, 'divAmount': 0.0, 'divYield': 0.0, 'divDate': '', 'securityStatus': 'Normal', 'regularMarketLastPrice': 408.5, 'regularMarketLastSize': 2554, 'regularMarketNetChange': -3.26, 'regularMarketTradeTimeInLong': 1605301200517, 'netPercentChangeInDouble': -0.884, 'markChangeInDouble': -3.26, 'markPercentChangeInDouble': -0.7917, 'regularMarketPercentChangeInDouble': -0.7917, 'delayed': True}, 'AAPL': {'assetType': 'EQUITY', 'assetMainType': 'EQUITY', 'cusip': '037833100', 'symbol': 'AAPL', 'description': 'Apple Inc. - Common Stock', 'bidPrice': 119.1, 'bidSize': 300, 'bidId': 'Q', 'askPrice': 119.25, 'askSize': 600, 'askId': 'P', 'lastPrice': 119.25, 'lastSize': 600, 'lastId': 'D', 'openPrice': 119.44, 'highPrice': 119.6717, 'lowPrice': 117.87, 'bidTick': ' ', 'closePrice': 119.21, 'netChange': 0.04, 'totalVolume': 81688586, 'quoteTimeInLong': 1605315599720, 'tradeTimeInLong': 1605315599724, 'mark': 119.26, 'exchange': 'q', 'exchangeName': 'NASD', 'marginable': True, 'shortable': True, 'volatility': 0.0087, 'digits': 4, '52WkHigh': 137.98, '52WkLow': 53.1525, 'nAV': 0.0, 'peRatio': 36.4364, 'divAmount': 0.82, 'divYield': 0.69, 'divDate': '2020-11-06 00:00:00.000', 'securityStatus': 'Normal', 'regularMarketLastPrice': 119.26, 'regularMarketLastSize': 46970, 'regularMarketNetChange': 0.05, 'regularMarketTradeTimeInLong': 1605301200676, 'netPercentChangeInDouble': 0.0336, 'markChangeInDouble': 0.05, 'markPercentChangeInDouble': 0.0419, 'regularMarketPercentChangeInDouble': 0.0419, 'delayed': True}}\n"
     ]
    }
   ],
   "source": [
    "# The daily prices endpoints\n",
    "endpoint = r\"https://api.tdameritrade.com/v1/marketdata/quotes\"\n",
    "\n",
    "#defined our payload\n",
    "payload = {'apikey': 'NPJBMUYTIITL7A46GN6GNB2FXVEPMMQL',\n",
    "           'symbol': 'GOOG,TSLA,AAPL'}\n",
    "\n",
    "# make a request\n",
    "content = requests.get(url=endpoint, params=payload)\n",
    "#print(content.url)\n",
    "\n",
    "# convert it to dictionary\n",
    "data = content.json()\n",
    "print(data)"
   ]
  },
  {
   "cell_type": "code",
   "execution_count": null,
   "metadata": {},
   "outputs": [],
   "source": []
  }
 ]
}